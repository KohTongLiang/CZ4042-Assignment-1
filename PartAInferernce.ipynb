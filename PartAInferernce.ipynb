{
 "cells": [
  {
   "cell_type": "code",
   "execution_count": 4,
   "source": [
    "import tensorflow\n",
    "import pandas as pd\n",
    "import time\n",
    "import numpy as np\n",
    "\n",
    "# tensorflow libraries\n",
    "import tensorflow as tf\n",
    "import tensorflow.keras as keras\n",
    "from tensorflow.keras import Sequential\n",
    "from tensorflow.keras.layers import Dense, Dropout\n",
    "from tensorflow.keras.optimizers import Adam\n",
    "import tensorflow_docs as tfdocs\n",
    "import tensorflow_docs.modeling\n",
    "import tensorflow_docs.plots\n",
    "\n",
    "\n",
    "# sklearn libraries are useful for preprocessing, performance measures, etc.\n",
    "from sklearn import preprocessing\n",
    "from sklearn.model_selection import KFold\n",
    "from sklearn.model_selection import train_test_split\n",
    "import numpy as np\n",
    "import pylab as plt\n",
    "import multiprocessing as mp"
   ],
   "outputs": [],
   "metadata": {
    "id": "YM8unKH7nSIM"
   }
  },
  {
   "cell_type": "markdown",
   "source": [
    "# Part A: Classifications"
   ],
   "metadata": {}
  },
  {
   "cell_type": "markdown",
   "source": [
    "# Read Data"
   ],
   "metadata": {
    "id": "gmTBl3xoqA9g"
   }
  },
  {
   "cell_type": "code",
   "execution_count": 5,
   "source": [
    "df = pd.read_csv('./dataset/features_30_sec.csv')\n",
    "df.head()"
   ],
   "outputs": [
    {
     "output_type": "execute_result",
     "data": {
      "text/html": [
       "<div>\n",
       "<style scoped>\n",
       "    .dataframe tbody tr th:only-of-type {\n",
       "        vertical-align: middle;\n",
       "    }\n",
       "\n",
       "    .dataframe tbody tr th {\n",
       "        vertical-align: top;\n",
       "    }\n",
       "\n",
       "    .dataframe thead th {\n",
       "        text-align: right;\n",
       "    }\n",
       "</style>\n",
       "<table border=\"1\" class=\"dataframe\">\n",
       "  <thead>\n",
       "    <tr style=\"text-align: right;\">\n",
       "      <th></th>\n",
       "      <th>filename</th>\n",
       "      <th>length</th>\n",
       "      <th>chroma_stft_mean</th>\n",
       "      <th>chroma_stft_var</th>\n",
       "      <th>rms_mean</th>\n",
       "      <th>rms_var</th>\n",
       "      <th>spectral_centroid_mean</th>\n",
       "      <th>spectral_centroid_var</th>\n",
       "      <th>spectral_bandwidth_mean</th>\n",
       "      <th>spectral_bandwidth_var</th>\n",
       "      <th>...</th>\n",
       "      <th>mfcc16_var</th>\n",
       "      <th>mfcc17_mean</th>\n",
       "      <th>mfcc17_var</th>\n",
       "      <th>mfcc18_mean</th>\n",
       "      <th>mfcc18_var</th>\n",
       "      <th>mfcc19_mean</th>\n",
       "      <th>mfcc19_var</th>\n",
       "      <th>mfcc20_mean</th>\n",
       "      <th>mfcc20_var</th>\n",
       "      <th>label</th>\n",
       "    </tr>\n",
       "  </thead>\n",
       "  <tbody>\n",
       "    <tr>\n",
       "      <th>0</th>\n",
       "      <td>blues.00000.wav</td>\n",
       "      <td>661794</td>\n",
       "      <td>0.350088</td>\n",
       "      <td>0.088757</td>\n",
       "      <td>0.130228</td>\n",
       "      <td>0.002827</td>\n",
       "      <td>1784.165850</td>\n",
       "      <td>129774.064525</td>\n",
       "      <td>2002.449060</td>\n",
       "      <td>85882.761315</td>\n",
       "      <td>...</td>\n",
       "      <td>52.420910</td>\n",
       "      <td>-1.690215</td>\n",
       "      <td>36.524071</td>\n",
       "      <td>-0.408979</td>\n",
       "      <td>41.597103</td>\n",
       "      <td>-2.303523</td>\n",
       "      <td>55.062923</td>\n",
       "      <td>1.221291</td>\n",
       "      <td>46.936035</td>\n",
       "      <td>blues</td>\n",
       "    </tr>\n",
       "    <tr>\n",
       "      <th>1</th>\n",
       "      <td>blues.00001.wav</td>\n",
       "      <td>661794</td>\n",
       "      <td>0.340914</td>\n",
       "      <td>0.094980</td>\n",
       "      <td>0.095948</td>\n",
       "      <td>0.002373</td>\n",
       "      <td>1530.176679</td>\n",
       "      <td>375850.073649</td>\n",
       "      <td>2039.036516</td>\n",
       "      <td>213843.755497</td>\n",
       "      <td>...</td>\n",
       "      <td>55.356403</td>\n",
       "      <td>-0.731125</td>\n",
       "      <td>60.314529</td>\n",
       "      <td>0.295073</td>\n",
       "      <td>48.120598</td>\n",
       "      <td>-0.283518</td>\n",
       "      <td>51.106190</td>\n",
       "      <td>0.531217</td>\n",
       "      <td>45.786282</td>\n",
       "      <td>blues</td>\n",
       "    </tr>\n",
       "    <tr>\n",
       "      <th>2</th>\n",
       "      <td>blues.00002.wav</td>\n",
       "      <td>661794</td>\n",
       "      <td>0.363637</td>\n",
       "      <td>0.085275</td>\n",
       "      <td>0.175570</td>\n",
       "      <td>0.002746</td>\n",
       "      <td>1552.811865</td>\n",
       "      <td>156467.643368</td>\n",
       "      <td>1747.702312</td>\n",
       "      <td>76254.192257</td>\n",
       "      <td>...</td>\n",
       "      <td>40.598766</td>\n",
       "      <td>-7.729093</td>\n",
       "      <td>47.639427</td>\n",
       "      <td>-1.816407</td>\n",
       "      <td>52.382141</td>\n",
       "      <td>-3.439720</td>\n",
       "      <td>46.639660</td>\n",
       "      <td>-2.231258</td>\n",
       "      <td>30.573025</td>\n",
       "      <td>blues</td>\n",
       "    </tr>\n",
       "    <tr>\n",
       "      <th>3</th>\n",
       "      <td>blues.00003.wav</td>\n",
       "      <td>661794</td>\n",
       "      <td>0.404785</td>\n",
       "      <td>0.093999</td>\n",
       "      <td>0.141093</td>\n",
       "      <td>0.006346</td>\n",
       "      <td>1070.106615</td>\n",
       "      <td>184355.942417</td>\n",
       "      <td>1596.412872</td>\n",
       "      <td>166441.494769</td>\n",
       "      <td>...</td>\n",
       "      <td>44.427753</td>\n",
       "      <td>-3.319597</td>\n",
       "      <td>50.206673</td>\n",
       "      <td>0.636965</td>\n",
       "      <td>37.319130</td>\n",
       "      <td>-0.619121</td>\n",
       "      <td>37.259739</td>\n",
       "      <td>-3.407448</td>\n",
       "      <td>31.949339</td>\n",
       "      <td>blues</td>\n",
       "    </tr>\n",
       "    <tr>\n",
       "      <th>4</th>\n",
       "      <td>blues.00004.wav</td>\n",
       "      <td>661794</td>\n",
       "      <td>0.308526</td>\n",
       "      <td>0.087841</td>\n",
       "      <td>0.091529</td>\n",
       "      <td>0.002303</td>\n",
       "      <td>1835.004266</td>\n",
       "      <td>343399.939274</td>\n",
       "      <td>1748.172116</td>\n",
       "      <td>88445.209036</td>\n",
       "      <td>...</td>\n",
       "      <td>86.099236</td>\n",
       "      <td>-5.454034</td>\n",
       "      <td>75.269707</td>\n",
       "      <td>-0.916874</td>\n",
       "      <td>53.613918</td>\n",
       "      <td>-4.404827</td>\n",
       "      <td>62.910812</td>\n",
       "      <td>-11.703234</td>\n",
       "      <td>55.195160</td>\n",
       "      <td>blues</td>\n",
       "    </tr>\n",
       "  </tbody>\n",
       "</table>\n",
       "<p>5 rows × 60 columns</p>\n",
       "</div>"
      ],
      "text/plain": [
       "          filename  length  chroma_stft_mean  chroma_stft_var  rms_mean  \\\n",
       "0  blues.00000.wav  661794          0.350088         0.088757  0.130228   \n",
       "1  blues.00001.wav  661794          0.340914         0.094980  0.095948   \n",
       "2  blues.00002.wav  661794          0.363637         0.085275  0.175570   \n",
       "3  blues.00003.wav  661794          0.404785         0.093999  0.141093   \n",
       "4  blues.00004.wav  661794          0.308526         0.087841  0.091529   \n",
       "\n",
       "    rms_var  spectral_centroid_mean  spectral_centroid_var  \\\n",
       "0  0.002827             1784.165850          129774.064525   \n",
       "1  0.002373             1530.176679          375850.073649   \n",
       "2  0.002746             1552.811865          156467.643368   \n",
       "3  0.006346             1070.106615          184355.942417   \n",
       "4  0.002303             1835.004266          343399.939274   \n",
       "\n",
       "   spectral_bandwidth_mean  spectral_bandwidth_var  ...  mfcc16_var  \\\n",
       "0              2002.449060            85882.761315  ...   52.420910   \n",
       "1              2039.036516           213843.755497  ...   55.356403   \n",
       "2              1747.702312            76254.192257  ...   40.598766   \n",
       "3              1596.412872           166441.494769  ...   44.427753   \n",
       "4              1748.172116            88445.209036  ...   86.099236   \n",
       "\n",
       "   mfcc17_mean  mfcc17_var  mfcc18_mean  mfcc18_var  mfcc19_mean  mfcc19_var  \\\n",
       "0    -1.690215   36.524071    -0.408979   41.597103    -2.303523   55.062923   \n",
       "1    -0.731125   60.314529     0.295073   48.120598    -0.283518   51.106190   \n",
       "2    -7.729093   47.639427    -1.816407   52.382141    -3.439720   46.639660   \n",
       "3    -3.319597   50.206673     0.636965   37.319130    -0.619121   37.259739   \n",
       "4    -5.454034   75.269707    -0.916874   53.613918    -4.404827   62.910812   \n",
       "\n",
       "   mfcc20_mean  mfcc20_var  label  \n",
       "0     1.221291   46.936035  blues  \n",
       "1     0.531217   45.786282  blues  \n",
       "2    -2.231258   30.573025  blues  \n",
       "3    -3.407448   31.949339  blues  \n",
       "4   -11.703234   55.195160  blues  \n",
       "\n",
       "[5 rows x 60 columns]"
      ]
     },
     "metadata": {},
     "execution_count": 5
    }
   ],
   "metadata": {
    "id": "An4b9d12p8u2"
   }
  },
  {
   "cell_type": "code",
   "execution_count": 6,
   "source": [
    "df['label'].value_counts()"
   ],
   "outputs": [
    {
     "output_type": "execute_result",
     "data": {
      "text/plain": [
       "blues        100\n",
       "classical    100\n",
       "country      100\n",
       "disco        100\n",
       "hiphop       100\n",
       "jazz         100\n",
       "metal        100\n",
       "pop          100\n",
       "reggae       100\n",
       "rock         100\n",
       "Name: label, dtype: int64"
      ]
     },
     "metadata": {},
     "execution_count": 6
    }
   ],
   "metadata": {
    "id": "CHZQbQVzqGIA"
   }
  },
  {
   "cell_type": "code",
   "execution_count": 7,
   "source": [
    "columns_to_drop = ['label','filename', 'length']\n",
    "\n",
    "def prepare_dataset(df, columns_to_drop, test_size, random_state):\n",
    "\n",
    "    # Encode the labels from 0 to n_classes-1  \n",
    "    label_encoder = preprocessing.LabelEncoder()\n",
    "    df['label'] = label_encoder.fit_transform(df['label'])\n",
    "  \n",
    "    # devide data to train and test\n",
    "    df_train, df_test = train_test_split(df, test_size=test_size, random_state=random_state)\n",
    "    \n",
    "    # scale the training inputs\n",
    "    x_train = df_train.drop(columns_to_drop,axis=1)\n",
    "    y_train = df_train['label'].to_numpy()\n",
    "    \n",
    "    standard_scaler = preprocessing.StandardScaler()\n",
    "    x_train_scaled = standard_scaler.fit_transform(x_train)\n",
    "\n",
    "    #scale and prepare testing data\n",
    "    x_test = df_test.drop(columns_to_drop,axis=1)\n",
    "    x_test_scaled = standard_scaler.transform(x_test)\n",
    "    y_test = df_test['label'].to_numpy() \n",
    "  \n",
    "    return x_train_scaled, y_train, x_test_scaled, y_test"
   ],
   "outputs": [],
   "metadata": {}
  },
  {
   "cell_type": "markdown",
   "source": [
    "\n",
    "Import training modules. Split and scale dataset."
   ],
   "metadata": {
    "id": "1zp_RDMgqL9Z"
   }
  },
  {
   "cell_type": "code",
   "execution_count": 8,
   "source": [
    "from PartA_train import *\n",
    "\n",
    "X_train, Y_train, X_test, Y_test = prepare_dataset(df, columns_to_drop, test_size=0.3, random_state=0)\n",
    "\n",
    "Y_train = tf.keras.utils.to_categorical(Y_train)\n",
    "Y_test = tf.keras.utils.to_categorical(Y_test)\n",
    "print(X_train.shape, Y_train.shape)\n",
    "print(X_test.shape, Y_test.shape)"
   ],
   "outputs": [
    {
     "output_type": "stream",
     "name": "stdout",
     "text": [
      "(700, 57) (700, 10)\n",
      "(300, 57) (300, 10)\n"
     ]
    }
   ],
   "metadata": {
    "id": "2fNTd9t7qHCI"
   }
  },
  {
   "cell_type": "markdown",
   "source": [
    "# Q1\n",
    "\n",
    "Design a feedforward deep neural network (DNN) which consists of an input layer, one\n",
    "hidden layer of 16 neurons with ReLU activation function, and an output softmax layer.\n",
    "Use an stochastic gradient descent with ‘adam’ optimizer with default parameters, and\n",
    "batch size = 1. Apply dropout of probability 0.3 to the hidden layer.\n",
    "Divide the dataset into a 70:30 ratio for training and testing. Use appropriate scaling of\n",
    "input features. We solely assume that there are only two datasets here: training & test.\n",
    "We would look into validation in Question 2 onwards."
   ],
   "metadata": {}
  },
  {
   "cell_type": "markdown",
   "source": [
    "## Creating the model"
   ],
   "metadata": {}
  },
  {
   "cell_type": "code",
   "execution_count": 9,
   "source": [
    "class PartA_DNN():\n",
    "    # init\n",
    "    def __init__(self,\n",
    "        learning_rate = 0.001,\n",
    "        batch_size = 1,\n",
    "        dropout = 0.3,\n",
    "        seed = 100,\n",
    "        num_epochs = 50\n",
    "        ):\n",
    "        self.seed = seed\n",
    "        self.learning_rate = learning_rate\n",
    "        self.batch_size = batch_size\n",
    "        self.dropout = dropout\n",
    "        self.num_epochs = num_epochs\n",
    "        np.random.seed(self.seed)\n",
    "        tf.random.set_seed(self.seed)\n",
    "        self.model = Sequential([\n",
    "            Dense(16, activation='relu'),\n",
    "            Dropout(rate = self.dropout),\n",
    "            Dense(10, activation='softmax')\n",
    "        ])\n",
    "    \n",
    "    def train(self, X_train, Y_train, X_test, Y_test):\n",
    "        self.model.compile(optimizer = Adam(learning_rate = self.learning_rate),\n",
    "                            loss = tf.keras.losses.MeanSquaredError(),\n",
    "                            metrics = ['accuracy'])\n",
    "                            \n",
    "        history = self.model.fit(X_train, Y_train,\n",
    "                            # shuffle = True,\n",
    "                            epochs = self.num_epochs, \n",
    "                            verbose = 2,\n",
    "                            callbacks=[tf.keras.callbacks.EarlyStopping(monitor='accuracy', patience=10),\n",
    "                                        tfdocs.modeling.EpochDots()],\n",
    "                            validation_data=(X_test, Y_test)\n",
    "                            )\n",
    "        return history\n",
    "    \n",
    "    def train_kfold(self, kfold_input, kfold_target, train, test):\n",
    "        self.model.compile(optimizer = Adam(learning_rate = self.learning_rate),\n",
    "                            loss = tf.keras.losses.MeanSquaredError(),\n",
    "                            metrics = ['accuracy'])\n",
    "                            \n",
    "        history = self.model.fit(kfold_input[train], kfold_target[train],\n",
    "                            epochs = self.num_epochs, \n",
    "                            verbose = 2,\n",
    "                            callbacks=[tf.keras.callbacks.EarlyStopping(monitor='accuracy', patience=10),\n",
    "                                        tfdocs.modeling.EpochDots()],\n",
    "                            validation_data=(X_test, Y_test)\n",
    "                            )\n",
    "\n",
    "        scores = self.model.evaluate(kfold_inputs[test], kfold_targets[test], verbose=2)\n",
    "        acc_per_fold.append(scores[1] * 100)\n",
    "        loss_per_fold.append(scores[0])\n",
    "\n",
    "        return history, acc_per_fold, loss_per_fold\n",
    "    \n",
    "    def view_summary(self):\n",
    "        return self.model.summary()\n"
   ],
   "outputs": [],
   "metadata": {}
  },
  {
   "cell_type": "markdown",
   "source": [
    "## Training Data"
   ],
   "metadata": {}
  },
  {
   "cell_type": "markdown",
   "source": [
    "Import model and set model configurations"
   ],
   "metadata": {}
  },
  {
   "cell_type": "markdown",
   "source": [
    "## Q1.a\n",
    "\n",
    "Use the training dataset to train the model for 50 epochs. Note: Use 50\n",
    "epochs for subsequent experiments."
   ],
   "metadata": {}
  },
  {
   "cell_type": "code",
   "execution_count": 8,
   "source": [
    "model = Sequential([\n",
    "            Dense(16, activation='relu'),\n",
    "            Dropout(rate = 0.3),\n",
    "            Dense(10, activation='softmax')\n",
    "        ])\n",
    "\n",
    "model.compile(optimizer = Adam(learning_rate = 0.001),\n",
    "                            loss = tf.keras.losses.MeanSquaredError(),\n",
    "                            metrics = ['accuracy'])\n",
    "                            \n",
    "history = model.fit(X_train, Y_train,\n",
    "                    # shuffle = True,\n",
    "                    epochs = 50, \n",
    "                    verbose = 2,\n",
    "                    callbacks=[tf.keras.callbacks.EarlyStopping(monitor='accuracy', patience=10),\n",
    "                                tfdocs.modeling.EpochDots()],\n",
    "                    validation_data=(X_test, Y_test)\n",
    "                    )"
   ],
   "outputs": [
    {
     "output_type": "stream",
     "name": "stderr",
     "text": [
      "2021-10-07 15:10:34.469660: I tensorflow/core/platform/cpu_feature_guard.cc:142] This TensorFlow binary is optimized with oneAPI Deep Neural Network Library (oneDNN) to use the following CPU instructions in performance-critical operations:  AVX2 FMA\n",
      "To enable them in other operations, rebuild TensorFlow with the appropriate compiler flags.\n",
      "2021-10-07 15:10:34.575086: I tensorflow/compiler/mlir/mlir_graph_optimization_pass.cc:185] None of the MLIR Optimization Passes are enabled (registered 2)\n"
     ]
    },
    {
     "output_type": "stream",
     "name": "stdout",
     "text": [
      "Epoch 1/50\n",
      "22/22 - 2s - loss: 0.0966 - accuracy: 0.0971 - val_loss: 0.0912 - val_accuracy: 0.1333\n",
      "\n",
      "Epoch: 0, accuracy:0.0971,  loss:0.0966,  val_accuracy:0.1333,  val_loss:0.0912,  \n",
      ".Epoch 2/50\n",
      "22/22 - 0s - loss: 0.0927 - accuracy: 0.1314 - val_loss: 0.0880 - val_accuracy: 0.2200\n",
      ".Epoch 3/50\n",
      "22/22 - 0s - loss: 0.0888 - accuracy: 0.1914 - val_loss: 0.0857 - val_accuracy: 0.2633\n",
      ".Epoch 4/50\n",
      "22/22 - 0s - loss: 0.0862 - accuracy: 0.2486 - val_loss: 0.0834 - val_accuracy: 0.2900\n",
      ".Epoch 5/50\n",
      "22/22 - 0s - loss: 0.0831 - accuracy: 0.2500 - val_loss: 0.0814 - val_accuracy: 0.3200\n",
      ".Epoch 6/50\n",
      "22/22 - 0s - loss: 0.0800 - accuracy: 0.3329 - val_loss: 0.0794 - val_accuracy: 0.3500\n",
      ".Epoch 7/50\n",
      "22/22 - 0s - loss: 0.0777 - accuracy: 0.3414 - val_loss: 0.0777 - val_accuracy: 0.3733\n",
      ".Epoch 8/50\n",
      "22/22 - 0s - loss: 0.0757 - accuracy: 0.3629 - val_loss: 0.0759 - val_accuracy: 0.4067\n",
      ".Epoch 9/50\n",
      "22/22 - 0s - loss: 0.0745 - accuracy: 0.3829 - val_loss: 0.0743 - val_accuracy: 0.4133\n",
      ".Epoch 10/50\n",
      "22/22 - 0s - loss: 0.0736 - accuracy: 0.4071 - val_loss: 0.0729 - val_accuracy: 0.4133\n",
      ".Epoch 11/50\n",
      "22/22 - 0s - loss: 0.0711 - accuracy: 0.4343 - val_loss: 0.0715 - val_accuracy: 0.4333\n",
      ".Epoch 12/50\n",
      "22/22 - 0s - loss: 0.0693 - accuracy: 0.4543 - val_loss: 0.0699 - val_accuracy: 0.4533\n",
      ".Epoch 13/50\n",
      "22/22 - 0s - loss: 0.0692 - accuracy: 0.4300 - val_loss: 0.0683 - val_accuracy: 0.4800\n",
      ".Epoch 14/50\n",
      "22/22 - 0s - loss: 0.0669 - accuracy: 0.4414 - val_loss: 0.0670 - val_accuracy: 0.4833\n",
      ".Epoch 15/50\n",
      "22/22 - 0s - loss: 0.0650 - accuracy: 0.4800 - val_loss: 0.0657 - val_accuracy: 0.4933\n",
      ".Epoch 16/50\n",
      "22/22 - 0s - loss: 0.0651 - accuracy: 0.4814 - val_loss: 0.0649 - val_accuracy: 0.4967\n",
      ".Epoch 17/50\n",
      "22/22 - 0s - loss: 0.0638 - accuracy: 0.5029 - val_loss: 0.0640 - val_accuracy: 0.5000\n",
      ".Epoch 18/50\n",
      "22/22 - 0s - loss: 0.0633 - accuracy: 0.4757 - val_loss: 0.0634 - val_accuracy: 0.4900\n",
      ".Epoch 19/50\n",
      "22/22 - 0s - loss: 0.0621 - accuracy: 0.4900 - val_loss: 0.0628 - val_accuracy: 0.5133\n",
      ".Epoch 20/50\n",
      "22/22 - 0s - loss: 0.0596 - accuracy: 0.5143 - val_loss: 0.0620 - val_accuracy: 0.5133\n",
      ".Epoch 21/50\n",
      "22/22 - 0s - loss: 0.0602 - accuracy: 0.4957 - val_loss: 0.0616 - val_accuracy: 0.5200\n",
      ".Epoch 22/50\n",
      "22/22 - 0s - loss: 0.0586 - accuracy: 0.5429 - val_loss: 0.0607 - val_accuracy: 0.5267\n",
      ".Epoch 23/50\n",
      "22/22 - 0s - loss: 0.0588 - accuracy: 0.5243 - val_loss: 0.0602 - val_accuracy: 0.5333\n",
      ".Epoch 24/50\n",
      "22/22 - 0s - loss: 0.0573 - accuracy: 0.5500 - val_loss: 0.0596 - val_accuracy: 0.5400\n",
      ".Epoch 25/50\n",
      "22/22 - 0s - loss: 0.0584 - accuracy: 0.5271 - val_loss: 0.0592 - val_accuracy: 0.5367\n",
      ".Epoch 26/50\n",
      "22/22 - 0s - loss: 0.0571 - accuracy: 0.5429 - val_loss: 0.0591 - val_accuracy: 0.5433\n",
      ".Epoch 27/50\n",
      "22/22 - 0s - loss: 0.0559 - accuracy: 0.5614 - val_loss: 0.0586 - val_accuracy: 0.5433\n",
      ".Epoch 28/50\n",
      "22/22 - 0s - loss: 0.0565 - accuracy: 0.5500 - val_loss: 0.0585 - val_accuracy: 0.5500\n",
      ".Epoch 29/50\n",
      "22/22 - 0s - loss: 0.0558 - accuracy: 0.5529 - val_loss: 0.0577 - val_accuracy: 0.5467\n",
      ".Epoch 30/50\n",
      "22/22 - 0s - loss: 0.0559 - accuracy: 0.5629 - val_loss: 0.0576 - val_accuracy: 0.5467\n",
      ".Epoch 31/50\n",
      "22/22 - 0s - loss: 0.0537 - accuracy: 0.5871 - val_loss: 0.0572 - val_accuracy: 0.5567\n",
      ".Epoch 32/50\n",
      "22/22 - 0s - loss: 0.0551 - accuracy: 0.5586 - val_loss: 0.0566 - val_accuracy: 0.5600\n",
      ".Epoch 33/50\n",
      "22/22 - 0s - loss: 0.0533 - accuracy: 0.5771 - val_loss: 0.0561 - val_accuracy: 0.5700\n",
      ".Epoch 34/50\n",
      "22/22 - 0s - loss: 0.0531 - accuracy: 0.5800 - val_loss: 0.0558 - val_accuracy: 0.5800\n",
      ".Epoch 35/50\n",
      "22/22 - 0s - loss: 0.0521 - accuracy: 0.5829 - val_loss: 0.0552 - val_accuracy: 0.5933\n",
      ".Epoch 36/50\n",
      "22/22 - 0s - loss: 0.0532 - accuracy: 0.5743 - val_loss: 0.0550 - val_accuracy: 0.6067\n",
      ".Epoch 37/50\n",
      "22/22 - 0s - loss: 0.0526 - accuracy: 0.5914 - val_loss: 0.0550 - val_accuracy: 0.5933\n",
      ".Epoch 38/50\n",
      "22/22 - 0s - loss: 0.0513 - accuracy: 0.6043 - val_loss: 0.0545 - val_accuracy: 0.5933\n",
      ".Epoch 39/50\n",
      "22/22 - 0s - loss: 0.0515 - accuracy: 0.5914 - val_loss: 0.0541 - val_accuracy: 0.6067\n",
      ".Epoch 40/50\n",
      "22/22 - 0s - loss: 0.0514 - accuracy: 0.5971 - val_loss: 0.0542 - val_accuracy: 0.6067\n",
      ".Epoch 41/50\n",
      "22/22 - 0s - loss: 0.0532 - accuracy: 0.5757 - val_loss: 0.0539 - val_accuracy: 0.6200\n",
      ".Epoch 42/50\n",
      "22/22 - 0s - loss: 0.0507 - accuracy: 0.6114 - val_loss: 0.0536 - val_accuracy: 0.6067\n",
      ".Epoch 43/50\n",
      "22/22 - 0s - loss: 0.0510 - accuracy: 0.6129 - val_loss: 0.0533 - val_accuracy: 0.6133\n",
      ".Epoch 44/50\n",
      "22/22 - 0s - loss: 0.0524 - accuracy: 0.6014 - val_loss: 0.0532 - val_accuracy: 0.6067\n",
      ".Epoch 45/50\n",
      "22/22 - 0s - loss: 0.0502 - accuracy: 0.6057 - val_loss: 0.0529 - val_accuracy: 0.6167\n",
      ".Epoch 46/50\n",
      "22/22 - 0s - loss: 0.0511 - accuracy: 0.6100 - val_loss: 0.0529 - val_accuracy: 0.6067\n",
      ".Epoch 47/50\n",
      "22/22 - 0s - loss: 0.0489 - accuracy: 0.6129 - val_loss: 0.0526 - val_accuracy: 0.6133\n",
      ".Epoch 48/50\n",
      "22/22 - 0s - loss: 0.0489 - accuracy: 0.6357 - val_loss: 0.0526 - val_accuracy: 0.6133\n",
      ".Epoch 49/50\n",
      "22/22 - 0s - loss: 0.0483 - accuracy: 0.6314 - val_loss: 0.0525 - val_accuracy: 0.6100\n",
      ".Epoch 50/50\n",
      "22/22 - 0s - loss: 0.0488 - accuracy: 0.6400 - val_loss: 0.0525 - val_accuracy: 0.6133\n",
      "."
     ]
    }
   ],
   "metadata": {}
  },
  {
   "cell_type": "markdown",
   "source": [
    "## Q1.b\n",
    "\n",
    "Plot accuracies on training and test data against training epochs and\n",
    "comment on the plots."
   ],
   "metadata": {}
  },
  {
   "cell_type": "code",
   "execution_count": 9,
   "source": [
    "epochs = range(1, len(history.history['accuracy'])+1)\n",
    "\n",
    "plt.plot(epochs, history.history['accuracy'], label='Training Accuracy')\n",
    "plt.xlabel('Epochs')\n",
    "plt.ylabel('Accuracy')\n",
    "plt.legend()\n",
    "\n",
    "plt.show()"
   ],
   "outputs": [
    {
     "output_type": "display_data",
     "data": {
      "image/png": "[encoded data removed]",
      "text/plain": [
       "<Figure size 432x288 with 1 Axes>"
      ]
     },
     "metadata": {
      "needs_background": "light"
     }
    }
   ],
   "metadata": {}
  },
  {
   "cell_type": "markdown",
   "source": [
    "Accuracy stabilises as loss values reaches convergence"
   ],
   "metadata": {}
  },
  {
   "cell_type": "markdown",
   "source": [
    "## Q1.C\n",
    "\n",
    "Plot the losses on training and test data against training epochs. State the\n",
    "approximate number of epochs where the test error begins to converge."
   ],
   "metadata": {}
  },
  {
   "cell_type": "code",
   "execution_count": 10,
   "source": [
    "epochs = range(1, len(history.history['loss'])+1)\n",
    "\n",
    "plt.plot(epochs, history.history['loss'], label='Training Loss')\n",
    "plt.xlabel('Epochs')\n",
    "plt.ylabel('Loss')\n",
    "plt.legend()\n",
    "\n",
    "plt.show()"
   ],
   "outputs": [
    {
     "output_type": "display_data",
     "data": {
      "image/png": "[encoded data removed]",
      "text/plain": [
       "<Figure size 432x288 with 1 Axes>"
      ]
     },
     "metadata": {
      "needs_background": "light"
     }
    }
   ],
   "metadata": {}
  },
  {
   "cell_type": "markdown",
   "source": [
    "Convergence happens at approximately 48 epochs"
   ],
   "metadata": {}
  },
  {
   "cell_type": "markdown",
   "source": [
    "# Q2\n",
    "\n",
    "In this question, we will compare the performance of the model using stochastic gradient\n",
    "descent and mini-batch gradient descent, as well as determining the optimal batch size\n",
    "for mini-batch gradient descent. Find the optimal batch size for mini-batch gradient\n",
    "descent by training the neural network and evaluating the performances for different\n",
    "batch sizes. Note: Use 3-fold cross-validation on training partition to perform parameter\n",
    "selection."
   ],
   "metadata": {}
  },
  {
   "cell_type": "markdown",
   "source": [
    "## Q2.a\n",
    "\n",
    "Plot mean cross-validation accuracies over the training epochs for different\n",
    "batch sizes. Limit search space to batch sizes {1,4,8,16,32, 64}."
   ],
   "metadata": {}
  },
  {
   "cell_type": "code",
   "execution_count": 12,
   "source": [
    "model = PartA_DNN()\n",
    "\n",
    "batch_sizes = [1,4,8,16,32, 64]\n",
    "kfold = KFold(n_splits = 3, shuffle = True)\n",
    "\n",
    "kfold_input = np.concatenate((X_train, X_test), axis = 0)\n",
    "kfold_target = np.concatenate((Y_train, Y_test), axis = 0)\n",
    "\n",
    "fold_results = []\n",
    "acc_per_fold = []\n",
    "loss_per_fold = []\n",
    "\n",
    "fold = 1\n",
    "for train, test in kfold.split(kfold_input,  kfold_target):\n",
    "\n",
    "    for batch in batch_sizes:\n",
    "\n",
    "        model = Sequential([\n",
    "                Dense(16, activation='relu'),\n",
    "                Dropout(rate = 0.3),\n",
    "                Dense(10, activation='softmax')\n",
    "            ])\n",
    "\n",
    "        model.compile(optimizer = Adam(learning_rate = 0.001),\n",
    "                            loss = tf.keras.losses.MeanSquaredError(),\n",
    "                            metrics = ['accuracy'])\n",
    "                            \n",
    "        history = model.fit(kfold_input[train], kfold_target[train],\n",
    "                            epochs = 50,\n",
    "                            verbose = 2,\n",
    "                            callbacks=[tf.keras.callbacks.EarlyStopping(monitor='accuracy', patience=10),\n",
    "                                        tfdocs.modeling.EpochDots()],\n",
    "                            validation_data=(X_test, Y_test)\n",
    "                            )\n",
    "\n",
    "        scores = model.evaluate(kfold_input[test], kfold_target[test], verbose=2)\n",
    "        acc_per_fold.append(scores[1] * 100)\n",
    "        loss_per_fold.append(scores[0])\n",
    "\n",
    "    # history, acc_per_fold, lose_per_fold = model.train_kfold(kfold_input, kfold_target, train, test)\n",
    "    # fold_results.push({ 'history': history, 'acc_per_fold' : acc_per_fold, 'lose_per_fold': lose_per_fold })\n",
    "    fold += 1"
   ],
   "outputs": [
    {
     "output_type": "stream",
     "name": "stderr",
     "text": [
      "2021-10-07 15:33:26.329619: I tensorflow/compiler/mlir/mlir_graph_optimization_pass.cc:185] None of the MLIR Optimization Passes are enabled (registered 2)\n"
     ]
    },
    {
     "output_type": "stream",
     "name": "stdout",
     "text": [
      "Epoch 1/50\n",
      "21/21 - 2s - loss: 0.0968 - accuracy: 0.1066 - val_loss: 0.0913 - val_accuracy: 0.1467\n",
      "\n",
      "Epoch: 0, accuracy:0.1066,  loss:0.0968,  val_accuracy:0.1467,  val_loss:0.0913,  \n",
      ".Epoch 2/50\n",
      "21/21 - 0s - loss: 0.0922 - accuracy: 0.1426 - val_loss: 0.0880 - val_accuracy: 0.2267\n",
      ".Epoch 3/50\n",
      "21/21 - 0s - loss: 0.0889 - accuracy: 0.1997 - val_loss: 0.0856 - val_accuracy: 0.2800\n",
      ".Epoch 4/50\n",
      "21/21 - 0s - loss: 0.0862 - accuracy: 0.2508 - val_loss: 0.0832 - val_accuracy: 0.3267\n",
      ".Epoch 5/50\n",
      "21/21 - 0s - loss: 0.0841 - accuracy: 0.2673 - val_loss: 0.0808 - val_accuracy: 0.3567\n",
      ".Epoch 6/50\n",
      "21/21 - 0s - loss: 0.0811 - accuracy: 0.3108 - val_loss: 0.0786 - val_accuracy: 0.3733\n",
      ".Epoch 7/50\n",
      "21/21 - 0s - loss: 0.0790 - accuracy: 0.3619 - val_loss: 0.0767 - val_accuracy: 0.4033\n",
      ".Epoch 8/50\n",
      "21/21 - 0s - loss: 0.0776 - accuracy: 0.3559 - val_loss: 0.0749 - val_accuracy: 0.4167\n",
      ".Epoch 9/50\n",
      "21/21 - 0s - loss: 0.0762 - accuracy: 0.3724 - val_loss: 0.0732 - val_accuracy: 0.4167\n",
      ".Epoch 10/50\n",
      "21/21 - 0s - loss: 0.0735 - accuracy: 0.4099 - val_loss: 0.0716 - val_accuracy: 0.4433\n",
      ".Epoch 11/50\n",
      "21/21 - 0s - loss: 0.0724 - accuracy: 0.4114 - val_loss: 0.0700 - val_accuracy: 0.4533\n",
      ".Epoch 12/50\n",
      "21/21 - 0s - loss: 0.0712 - accuracy: 0.4414 - val_loss: 0.0685 - val_accuracy: 0.4633\n",
      ".Epoch 13/50\n",
      "21/21 - 0s - loss: 0.0700 - accuracy: 0.4279 - val_loss: 0.0667 - val_accuracy: 0.4967\n",
      ".Epoch 14/50\n",
      "21/21 - 0s - loss: 0.0681 - accuracy: 0.4805 - val_loss: 0.0652 - val_accuracy: 0.5067\n",
      ".Epoch 15/50\n",
      "21/21 - 0s - loss: 0.0680 - accuracy: 0.4640 - val_loss: 0.0640 - val_accuracy: 0.5133\n",
      ".Epoch 16/50\n",
      "21/21 - 0s - loss: 0.0662 - accuracy: 0.4700 - val_loss: 0.0624 - val_accuracy: 0.5333\n",
      ".Epoch 17/50\n",
      "21/21 - 0s - loss: 0.0644 - accuracy: 0.4955 - val_loss: 0.0611 - val_accuracy: 0.5467\n",
      ".Epoch 18/50\n",
      "21/21 - 0s - loss: 0.0627 - accuracy: 0.5165 - val_loss: 0.0597 - val_accuracy: 0.5533\n",
      ".Epoch 19/50\n",
      "21/21 - 0s - loss: 0.0626 - accuracy: 0.4955 - val_loss: 0.0586 - val_accuracy: 0.5700\n",
      ".Epoch 20/50\n",
      "21/21 - 0s - loss: 0.0620 - accuracy: 0.4985 - val_loss: 0.0577 - val_accuracy: 0.5700\n",
      ".Epoch 21/50\n",
      "21/21 - 0s - loss: 0.0619 - accuracy: 0.5105 - val_loss: 0.0568 - val_accuracy: 0.5633\n",
      ".Epoch 22/50\n",
      "21/21 - 0s - loss: 0.0609 - accuracy: 0.5240 - val_loss: 0.0562 - val_accuracy: 0.5700\n",
      ".Epoch 23/50\n",
      "21/21 - 0s - loss: 0.0592 - accuracy: 0.5375 - val_loss: 0.0556 - val_accuracy: 0.5700\n",
      ".Epoch 24/50\n",
      "21/21 - 0s - loss: 0.0595 - accuracy: 0.5240 - val_loss: 0.0548 - val_accuracy: 0.5867\n",
      ".Epoch 25/50\n",
      "21/21 - 0s - loss: 0.0596 - accuracy: 0.5435 - val_loss: 0.0540 - val_accuracy: 0.5867\n",
      ".Epoch 26/50\n",
      "21/21 - 0s - loss: 0.0597 - accuracy: 0.5255 - val_loss: 0.0534 - val_accuracy: 0.6000\n",
      ".Epoch 27/50\n",
      "21/21 - 0s - loss: 0.0563 - accuracy: 0.5721 - val_loss: 0.0529 - val_accuracy: 0.6033\n",
      ".Epoch 28/50\n",
      "21/21 - 0s - loss: 0.0577 - accuracy: 0.5526 - val_loss: 0.0524 - val_accuracy: 0.6267\n",
      ".Epoch 29/50\n",
      "21/21 - 0s - loss: 0.0570 - accuracy: 0.5721 - val_loss: 0.0522 - val_accuracy: 0.6233\n",
      ".Epoch 30/50\n",
      "21/21 - 0s - loss: 0.0568 - accuracy: 0.5541 - val_loss: 0.0516 - val_accuracy: 0.6367\n",
      ".Epoch 31/50\n",
      "21/21 - 0s - loss: 0.0562 - accuracy: 0.5661 - val_loss: 0.0511 - val_accuracy: 0.6333\n",
      ".Epoch 32/50\n",
      "21/21 - 0s - loss: 0.0557 - accuracy: 0.5916 - val_loss: 0.0508 - val_accuracy: 0.6367\n",
      ".Epoch 33/50\n",
      "21/21 - 0s - loss: 0.0565 - accuracy: 0.5646 - val_loss: 0.0505 - val_accuracy: 0.6433\n",
      ".Epoch 34/50\n",
      "21/21 - 0s - loss: 0.0540 - accuracy: 0.5901 - val_loss: 0.0501 - val_accuracy: 0.6500\n",
      ".Epoch 35/50\n",
      "21/21 - 0s - loss: 0.0531 - accuracy: 0.6066 - val_loss: 0.0494 - val_accuracy: 0.6267\n",
      ".Epoch 36/50\n",
      "21/21 - 0s - loss: 0.0552 - accuracy: 0.5931 - val_loss: 0.0491 - val_accuracy: 0.6300\n",
      ".Epoch 37/50\n",
      "21/21 - 0s - loss: 0.0531 - accuracy: 0.5976 - val_loss: 0.0487 - val_accuracy: 0.6500\n",
      ".Epoch 38/50\n",
      "21/21 - 0s - loss: 0.0529 - accuracy: 0.6081 - val_loss: 0.0484 - val_accuracy: 0.6567\n",
      ".Epoch 39/50\n",
      "21/21 - 0s - loss: 0.0528 - accuracy: 0.6036 - val_loss: 0.0481 - val_accuracy: 0.6600\n",
      ".Epoch 40/50\n",
      "21/21 - 0s - loss: 0.0512 - accuracy: 0.6006 - val_loss: 0.0479 - val_accuracy: 0.6600\n",
      ".Epoch 41/50\n",
      "21/21 - 1s - loss: 0.0529 - accuracy: 0.5871 - val_loss: 0.0478 - val_accuracy: 0.6600\n",
      ".Epoch 42/50\n",
      "21/21 - 1s - loss: 0.0522 - accuracy: 0.6021 - val_loss: 0.0475 - val_accuracy: 0.6633\n",
      ".Epoch 43/50\n",
      "21/21 - 0s - loss: 0.0500 - accuracy: 0.6261 - val_loss: 0.0472 - val_accuracy: 0.6533\n",
      ".Epoch 44/50\n",
      "21/21 - 0s - loss: 0.0511 - accuracy: 0.5976 - val_loss: 0.0468 - val_accuracy: 0.6667\n",
      ".Epoch 45/50\n",
      "21/21 - 0s - loss: 0.0522 - accuracy: 0.6246 - val_loss: 0.0466 - val_accuracy: 0.6567\n",
      ".Epoch 46/50\n",
      "21/21 - 0s - loss: 0.0510 - accuracy: 0.6261 - val_loss: 0.0460 - val_accuracy: 0.6667\n",
      ".Epoch 47/50\n",
      "21/21 - 0s - loss: 0.0511 - accuracy: 0.6216 - val_loss: 0.0458 - val_accuracy: 0.6667\n",
      ".Epoch 48/50\n",
      "21/21 - 0s - loss: 0.0500 - accuracy: 0.6366 - val_loss: 0.0459 - val_accuracy: 0.6667\n",
      ".Epoch 49/50\n",
      "21/21 - 0s - loss: 0.0486 - accuracy: 0.6517 - val_loss: 0.0458 - val_accuracy: 0.6667\n",
      ".Epoch 50/50\n",
      "21/21 - 0s - loss: 0.0486 - accuracy: 0.6607 - val_loss: 0.0452 - val_accuracy: 0.6733\n",
      ".11/11 - 0s - loss: 0.0494 - accuracy: 0.6138\n"
     ]
    },
    {
     "output_type": "error",
     "ename": "NameError",
     "evalue": "name 'acc_per_fold' is not defined",
     "traceback": [
      "\u001b[0;31m---------------------------------------------------------------------------\u001b[0m",
      "\u001b[0;31mNameError\u001b[0m                                 Traceback (most recent call last)",
      "\u001b[0;32m/var/folders/jt/g9rh1jyx5g3f0_bvvq86j7fw0000gn/T/ipykernel_4126/1417906402.py\u001b[0m in \u001b[0;36m<module>\u001b[0;34m\u001b[0m\n\u001b[1;32m     11\u001b[0m \u001b[0mfold\u001b[0m \u001b[0;34m=\u001b[0m \u001b[0;36m1\u001b[0m\u001b[0;34m\u001b[0m\u001b[0;34m\u001b[0m\u001b[0m\n\u001b[1;32m     12\u001b[0m \u001b[0;32mfor\u001b[0m \u001b[0mtrain\u001b[0m\u001b[0;34m,\u001b[0m \u001b[0mtest\u001b[0m \u001b[0;32min\u001b[0m \u001b[0mkfold\u001b[0m\u001b[0;34m.\u001b[0m\u001b[0msplit\u001b[0m\u001b[0;34m(\u001b[0m\u001b[0mkfold_input\u001b[0m\u001b[0;34m,\u001b[0m  \u001b[0mkfold_target\u001b[0m\u001b[0;34m)\u001b[0m\u001b[0;34m:\u001b[0m\u001b[0;34m\u001b[0m\u001b[0;34m\u001b[0m\u001b[0m\n\u001b[0;32m---> 13\u001b[0;31m     \u001b[0mhistory\u001b[0m\u001b[0;34m,\u001b[0m \u001b[0macc_per_fold\u001b[0m\u001b[0;34m,\u001b[0m \u001b[0mlose_per_fold\u001b[0m \u001b[0;34m=\u001b[0m \u001b[0mmodel\u001b[0m\u001b[0;34m.\u001b[0m\u001b[0mtrain_kfold\u001b[0m\u001b[0;34m(\u001b[0m\u001b[0mkfold_input\u001b[0m\u001b[0;34m,\u001b[0m \u001b[0mkfold_target\u001b[0m\u001b[0;34m,\u001b[0m \u001b[0mtrain\u001b[0m\u001b[0;34m,\u001b[0m \u001b[0mtest\u001b[0m\u001b[0;34m)\u001b[0m\u001b[0;34m\u001b[0m\u001b[0;34m\u001b[0m\u001b[0m\n\u001b[0m\u001b[1;32m     14\u001b[0m     \u001b[0mfold_results\u001b[0m\u001b[0;34m.\u001b[0m\u001b[0mpush\u001b[0m\u001b[0;34m(\u001b[0m\u001b[0;34m{\u001b[0m \u001b[0;34m'history'\u001b[0m\u001b[0;34m:\u001b[0m \u001b[0mhistory\u001b[0m\u001b[0;34m,\u001b[0m \u001b[0;34m'acc_per_fold'\u001b[0m \u001b[0;34m:\u001b[0m \u001b[0macc_per_fold\u001b[0m\u001b[0;34m,\u001b[0m \u001b[0;34m'lose_per_fold'\u001b[0m\u001b[0;34m:\u001b[0m \u001b[0mlose_per_fold\u001b[0m \u001b[0;34m}\u001b[0m\u001b[0;34m)\u001b[0m\u001b[0;34m\u001b[0m\u001b[0;34m\u001b[0m\u001b[0m\n\u001b[1;32m     15\u001b[0m     \u001b[0mfold\u001b[0m \u001b[0;34m+=\u001b[0m \u001b[0;36m1\u001b[0m\u001b[0;34m\u001b[0m\u001b[0;34m\u001b[0m\u001b[0m\n",
      "\u001b[0;32m/var/folders/jt/g9rh1jyx5g3f0_bvvq86j7fw0000gn/T/ipykernel_4126/395053928.py\u001b[0m in \u001b[0;36mtrain_kfold\u001b[0;34m(self, kfold_input, kfold_target, train, test)\u001b[0m\n\u001b[1;32m     50\u001b[0m \u001b[0;34m\u001b[0m\u001b[0m\n\u001b[1;32m     51\u001b[0m         \u001b[0mscores\u001b[0m \u001b[0;34m=\u001b[0m \u001b[0mself\u001b[0m\u001b[0;34m.\u001b[0m\u001b[0mmodel\u001b[0m\u001b[0;34m.\u001b[0m\u001b[0mevaluate\u001b[0m\u001b[0;34m(\u001b[0m\u001b[0mkfold_inputs\u001b[0m\u001b[0;34m[\u001b[0m\u001b[0mtest\u001b[0m\u001b[0;34m]\u001b[0m\u001b[0;34m,\u001b[0m \u001b[0mkfold_targets\u001b[0m\u001b[0;34m[\u001b[0m\u001b[0mtest\u001b[0m\u001b[0;34m]\u001b[0m\u001b[0;34m,\u001b[0m \u001b[0mverbose\u001b[0m\u001b[0;34m=\u001b[0m\u001b[0;36m2\u001b[0m\u001b[0;34m)\u001b[0m\u001b[0;34m\u001b[0m\u001b[0;34m\u001b[0m\u001b[0m\n\u001b[0;32m---> 52\u001b[0;31m         \u001b[0macc_per_fold\u001b[0m\u001b[0;34m.\u001b[0m\u001b[0mappend\u001b[0m\u001b[0;34m(\u001b[0m\u001b[0mscores\u001b[0m\u001b[0;34m[\u001b[0m\u001b[0;36m1\u001b[0m\u001b[0;34m]\u001b[0m \u001b[0;34m*\u001b[0m \u001b[0;36m100\u001b[0m\u001b[0;34m)\u001b[0m\u001b[0;34m\u001b[0m\u001b[0;34m\u001b[0m\u001b[0m\n\u001b[0m\u001b[1;32m     53\u001b[0m         \u001b[0mloss_per_fold\u001b[0m\u001b[0;34m.\u001b[0m\u001b[0mappend\u001b[0m\u001b[0;34m(\u001b[0m\u001b[0mscores\u001b[0m\u001b[0;34m[\u001b[0m\u001b[0;36m0\u001b[0m\u001b[0;34m]\u001b[0m\u001b[0;34m)\u001b[0m\u001b[0;34m\u001b[0m\u001b[0;34m\u001b[0m\u001b[0m\n\u001b[1;32m     54\u001b[0m \u001b[0;34m\u001b[0m\u001b[0m\n",
      "\u001b[0;31mNameError\u001b[0m: name 'acc_per_fold' is not defined"
     ]
    }
   ],
   "metadata": {}
  },
  {
   "cell_type": "markdown",
   "source": [],
   "metadata": {}
  }
 ],
 "metadata": {
  "colab": {
   "authorship_tag": "ABX9TyPBI19y+/jqNpPI0QeiLTYf",
   "collapsed_sections": [],
   "name": "StarterCode.ipynb",
   "provenance": []
  },
  "kernelspec": {
   "name": "python3",
   "display_name": "Python 3.9.7 64-bit ('CZ4042': conda)"
  },
  "language_info": {
   "codemirror_mode": {
    "name": "ipython",
    "version": 3
   },
   "file_extension": ".py",
   "mimetype": "text/x-python",
   "name": "python",
   "nbconvert_exporter": "python",
   "pygments_lexer": "ipython3",
   "version": "3.9.7"
  },
  "interpreter": {
   "hash": "636b5b29e6b73c93de5ab172adb8e74b2c0f8ddacb3a338d6a3ae55b84076a85"
  }
 },
 "nbformat": 4,
 "nbformat_minor": 1
}