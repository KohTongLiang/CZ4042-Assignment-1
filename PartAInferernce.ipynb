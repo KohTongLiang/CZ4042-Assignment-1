{
 "cells": [
  {
   "cell_type": "code",
   "execution_count": 1,
   "source": [
    "import tensorflow\n",
    "import pandas as pd\n",
    "import time\n",
    "import numpy as np\n",
    "\n",
    "# tensorflow libraries\n",
    "import tensorflow as tf\n",
    "import tensorflow.keras as keras\n",
    "from tensorflow.keras import Sequential\n",
    "from tensorflow.keras.layers import Dense, Dropout\n",
    "\n",
    "# sklearn libraries are useful for preprocessing, performance measures, etc.\n",
    "from sklearn import preprocessing\n",
    "from sklearn.model_selection import KFold\n",
    "from sklearn.model_selection import train_test_split"
   ],
   "outputs": [],
   "metadata": {
    "id": "YM8unKH7nSIM"
   }
  },
  {
   "cell_type": "markdown",
   "source": [
    "# Read Data"
   ],
   "metadata": {
    "id": "gmTBl3xoqA9g"
   }
  },
  {
   "cell_type": "code",
   "execution_count": 2,
   "source": [
    "df = pd.read_csv('./dataset/features_30_sec.csv')\n",
    "df.head()"
   ],
   "outputs": [
    {
     "output_type": "execute_result",
     "data": {
      "text/html": [
       "<div>\n",
       "<style scoped>\n",
       "    .dataframe tbody tr th:only-of-type {\n",
       "        vertical-align: middle;\n",
       "    }\n",
       "\n",
       "    .dataframe tbody tr th {\n",
       "        vertical-align: top;\n",
       "    }\n",
       "\n",
       "    .dataframe thead th {\n",
       "        text-align: right;\n",
       "    }\n",
       "</style>\n",
       "<table border=\"1\" class=\"dataframe\">\n",
       "  <thead>\n",
       "    <tr style=\"text-align: right;\">\n",
       "      <th></th>\n",
       "      <th>filename</th>\n",
       "      <th>length</th>\n",
       "      <th>chroma_stft_mean</th>\n",
       "      <th>chroma_stft_var</th>\n",
       "      <th>rms_mean</th>\n",
       "      <th>rms_var</th>\n",
       "      <th>spectral_centroid_mean</th>\n",
       "      <th>spectral_centroid_var</th>\n",
       "      <th>spectral_bandwidth_mean</th>\n",
       "      <th>spectral_bandwidth_var</th>\n",
       "      <th>...</th>\n",
       "      <th>mfcc16_var</th>\n",
       "      <th>mfcc17_mean</th>\n",
       "      <th>mfcc17_var</th>\n",
       "      <th>mfcc18_mean</th>\n",
       "      <th>mfcc18_var</th>\n",
       "      <th>mfcc19_mean</th>\n",
       "      <th>mfcc19_var</th>\n",
       "      <th>mfcc20_mean</th>\n",
       "      <th>mfcc20_var</th>\n",
       "      <th>label</th>\n",
       "    </tr>\n",
       "  </thead>\n",
       "  <tbody>\n",
       "    <tr>\n",
       "      <th>0</th>\n",
       "      <td>blues.00000.wav</td>\n",
       "      <td>661794</td>\n",
       "      <td>0.350088</td>\n",
       "      <td>0.088757</td>\n",
       "      <td>0.130228</td>\n",
       "      <td>0.002827</td>\n",
       "      <td>1784.165850</td>\n",
       "      <td>129774.064525</td>\n",
       "      <td>2002.449060</td>\n",
       "      <td>85882.761315</td>\n",
       "      <td>...</td>\n",
       "      <td>52.420910</td>\n",
       "      <td>-1.690215</td>\n",
       "      <td>36.524071</td>\n",
       "      <td>-0.408979</td>\n",
       "      <td>41.597103</td>\n",
       "      <td>-2.303523</td>\n",
       "      <td>55.062923</td>\n",
       "      <td>1.221291</td>\n",
       "      <td>46.936035</td>\n",
       "      <td>blues</td>\n",
       "    </tr>\n",
       "    <tr>\n",
       "      <th>1</th>\n",
       "      <td>blues.00001.wav</td>\n",
       "      <td>661794</td>\n",
       "      <td>0.340914</td>\n",
       "      <td>0.094980</td>\n",
       "      <td>0.095948</td>\n",
       "      <td>0.002373</td>\n",
       "      <td>1530.176679</td>\n",
       "      <td>375850.073649</td>\n",
       "      <td>2039.036516</td>\n",
       "      <td>213843.755497</td>\n",
       "      <td>...</td>\n",
       "      <td>55.356403</td>\n",
       "      <td>-0.731125</td>\n",
       "      <td>60.314529</td>\n",
       "      <td>0.295073</td>\n",
       "      <td>48.120598</td>\n",
       "      <td>-0.283518</td>\n",
       "      <td>51.106190</td>\n",
       "      <td>0.531217</td>\n",
       "      <td>45.786282</td>\n",
       "      <td>blues</td>\n",
       "    </tr>\n",
       "    <tr>\n",
       "      <th>2</th>\n",
       "      <td>blues.00002.wav</td>\n",
       "      <td>661794</td>\n",
       "      <td>0.363637</td>\n",
       "      <td>0.085275</td>\n",
       "      <td>0.175570</td>\n",
       "      <td>0.002746</td>\n",
       "      <td>1552.811865</td>\n",
       "      <td>156467.643368</td>\n",
       "      <td>1747.702312</td>\n",
       "      <td>76254.192257</td>\n",
       "      <td>...</td>\n",
       "      <td>40.598766</td>\n",
       "      <td>-7.729093</td>\n",
       "      <td>47.639427</td>\n",
       "      <td>-1.816407</td>\n",
       "      <td>52.382141</td>\n",
       "      <td>-3.439720</td>\n",
       "      <td>46.639660</td>\n",
       "      <td>-2.231258</td>\n",
       "      <td>30.573025</td>\n",
       "      <td>blues</td>\n",
       "    </tr>\n",
       "    <tr>\n",
       "      <th>3</th>\n",
       "      <td>blues.00003.wav</td>\n",
       "      <td>661794</td>\n",
       "      <td>0.404785</td>\n",
       "      <td>0.093999</td>\n",
       "      <td>0.141093</td>\n",
       "      <td>0.006346</td>\n",
       "      <td>1070.106615</td>\n",
       "      <td>184355.942417</td>\n",
       "      <td>1596.412872</td>\n",
       "      <td>166441.494769</td>\n",
       "      <td>...</td>\n",
       "      <td>44.427753</td>\n",
       "      <td>-3.319597</td>\n",
       "      <td>50.206673</td>\n",
       "      <td>0.636965</td>\n",
       "      <td>37.319130</td>\n",
       "      <td>-0.619121</td>\n",
       "      <td>37.259739</td>\n",
       "      <td>-3.407448</td>\n",
       "      <td>31.949339</td>\n",
       "      <td>blues</td>\n",
       "    </tr>\n",
       "    <tr>\n",
       "      <th>4</th>\n",
       "      <td>blues.00004.wav</td>\n",
       "      <td>661794</td>\n",
       "      <td>0.308526</td>\n",
       "      <td>0.087841</td>\n",
       "      <td>0.091529</td>\n",
       "      <td>0.002303</td>\n",
       "      <td>1835.004266</td>\n",
       "      <td>343399.939274</td>\n",
       "      <td>1748.172116</td>\n",
       "      <td>88445.209036</td>\n",
       "      <td>...</td>\n",
       "      <td>86.099236</td>\n",
       "      <td>-5.454034</td>\n",
       "      <td>75.269707</td>\n",
       "      <td>-0.916874</td>\n",
       "      <td>53.613918</td>\n",
       "      <td>-4.404827</td>\n",
       "      <td>62.910812</td>\n",
       "      <td>-11.703234</td>\n",
       "      <td>55.195160</td>\n",
       "      <td>blues</td>\n",
       "    </tr>\n",
       "  </tbody>\n",
       "</table>\n",
       "<p>5 rows × 60 columns</p>\n",
       "</div>"
      ],
      "text/plain": [
       "          filename  length  chroma_stft_mean  chroma_stft_var  rms_mean  \\\n",
       "0  blues.00000.wav  661794          0.350088         0.088757  0.130228   \n",
       "1  blues.00001.wav  661794          0.340914         0.094980  0.095948   \n",
       "2  blues.00002.wav  661794          0.363637         0.085275  0.175570   \n",
       "3  blues.00003.wav  661794          0.404785         0.093999  0.141093   \n",
       "4  blues.00004.wav  661794          0.308526         0.087841  0.091529   \n",
       "\n",
       "    rms_var  spectral_centroid_mean  spectral_centroid_var  \\\n",
       "0  0.002827             1784.165850          129774.064525   \n",
       "1  0.002373             1530.176679          375850.073649   \n",
       "2  0.002746             1552.811865          156467.643368   \n",
       "3  0.006346             1070.106615          184355.942417   \n",
       "4  0.002303             1835.004266          343399.939274   \n",
       "\n",
       "   spectral_bandwidth_mean  spectral_bandwidth_var  ...  mfcc16_var  \\\n",
       "0              2002.449060            85882.761315  ...   52.420910   \n",
       "1              2039.036516           213843.755497  ...   55.356403   \n",
       "2              1747.702312            76254.192257  ...   40.598766   \n",
       "3              1596.412872           166441.494769  ...   44.427753   \n",
       "4              1748.172116            88445.209036  ...   86.099236   \n",
       "\n",
       "   mfcc17_mean  mfcc17_var  mfcc18_mean  mfcc18_var  mfcc19_mean  mfcc19_var  \\\n",
       "0    -1.690215   36.524071    -0.408979   41.597103    -2.303523   55.062923   \n",
       "1    -0.731125   60.314529     0.295073   48.120598    -0.283518   51.106190   \n",
       "2    -7.729093   47.639427    -1.816407   52.382141    -3.439720   46.639660   \n",
       "3    -3.319597   50.206673     0.636965   37.319130    -0.619121   37.259739   \n",
       "4    -5.454034   75.269707    -0.916874   53.613918    -4.404827   62.910812   \n",
       "\n",
       "   mfcc20_mean  mfcc20_var  label  \n",
       "0     1.221291   46.936035  blues  \n",
       "1     0.531217   45.786282  blues  \n",
       "2    -2.231258   30.573025  blues  \n",
       "3    -3.407448   31.949339  blues  \n",
       "4   -11.703234   55.195160  blues  \n",
       "\n",
       "[5 rows x 60 columns]"
      ]
     },
     "metadata": {},
     "execution_count": 2
    }
   ],
   "metadata": {
    "id": "An4b9d12p8u2"
   }
  },
  {
   "cell_type": "code",
   "execution_count": 3,
   "source": [
    "df['label'].value_counts()"
   ],
   "outputs": [
    {
     "output_type": "execute_result",
     "data": {
      "text/plain": [
       "blues        100\n",
       "classical    100\n",
       "country      100\n",
       "disco        100\n",
       "hiphop       100\n",
       "jazz         100\n",
       "metal        100\n",
       "pop          100\n",
       "reggae       100\n",
       "rock         100\n",
       "Name: label, dtype: int64"
      ]
     },
     "metadata": {},
     "execution_count": 3
    }
   ],
   "metadata": {
    "id": "CHZQbQVzqGIA"
   }
  },
  {
   "cell_type": "markdown",
   "source": [
    "\n",
    "Import training modules. Split and scale dataset."
   ],
   "metadata": {
    "id": "1zp_RDMgqL9Z"
   }
  },
  {
   "cell_type": "code",
   "execution_count": 5,
   "source": [
    "from PartA_train import *\n",
    "\n",
    "columns_to_drop = ['label','filename', 'length']\n",
    "\n",
    "X_train, Y_train, X_test, Y_test = prepare_dataset(df, columns_to_drop, test_size=0.3, random_state=1)\n",
    "\n",
    "print(X_train.shape, Y_train.shape)\n",
    "print(X_test.shape, Y_test.shape)"
   ],
   "outputs": [
    {
     "output_type": "stream",
     "name": "stdout",
     "text": [
      "(700, 57) (700,)\n",
      "(300, 57) (300,)\n"
     ]
    }
   ],
   "metadata": {
    "id": "2fNTd9t7qHCI"
   }
  },
  {
   "cell_type": "markdown",
   "source": [
    "# Training Data"
   ],
   "metadata": {}
  },
  {
   "cell_type": "markdown",
   "source": [
    "Randomize dataset input"
   ],
   "metadata": {}
  },
  {
   "cell_type": "code",
   "execution_count": 6,
   "source": [
    "def randomize(x, y):\n",
    "    \"\"\" Randomizes the order of data samples and their corresponding labels\"\"\"\n",
    "    permutation = np.random.permutation(y.shape[0])\n",
    "    shuffled_x = x[permutation, :]\n",
    "    shuffled_y = y[permutation]\n",
    "    return shuffled_x, shuffled_y\n"
   ],
   "outputs": [],
   "metadata": {}
  },
  {
   "cell_type": "code",
   "execution_count": 7,
   "source": [
    "\n",
    "X_train, Y_train =  randomize(X_train, Y_train)\n",
    "X_test, Y_test = randomize (X_test, Y_test)"
   ],
   "outputs": [],
   "metadata": {}
  },
  {
   "cell_type": "markdown",
   "source": [
    "Import model and set model configurations"
   ],
   "metadata": {}
  },
  {
   "cell_type": "code",
   "execution_count": 8,
   "source": [
    "from PartA_model import *\n",
    "\n",
    "model = PartA_DNN(batch_size=4, learning_rate=0.1)\n",
    "\n",
    "model.train(X_train, Y_train, X_test, Y_test)"
   ],
   "outputs": [
    {
     "output_type": "stream",
     "name": "stderr",
     "text": [
      "2021-10-06 16:24:32.960143: I tensorflow/core/platform/cpu_feature_guard.cc:142] This TensorFlow binary is optimized with oneAPI Deep Neural Network Library (oneDNN) to use the following CPU instructions in performance-critical operations:  AVX2 FMA\n",
      "To enable them in other operations, rebuild TensorFlow with the appropriate compiler flags.\n",
      "2021-10-06 16:24:33.128955: I tensorflow/compiler/mlir/mlir_graph_optimization_pass.cc:185] None of the MLIR Optimization Passes are enabled (registered 2)\n"
     ]
    },
    {
     "output_type": "stream",
     "name": "stdout",
     "text": [
      "Epoch 1/50\n",
      "22/22 - 2s - loss: 20.5286 - val_loss: 20.4333\n",
      "Epoch 2/50\n",
      "22/22 - 0s - loss: 20.5286 - val_loss: 20.4333\n",
      "Epoch 3/50\n",
      "22/22 - 0s - loss: 20.5286 - val_loss: 20.4333\n",
      "Epoch 4/50\n",
      "22/22 - 0s - loss: 20.5286 - val_loss: 20.4333\n",
      "Epoch 5/50\n",
      "22/22 - 0s - loss: 20.5286 - val_loss: 20.4333\n",
      "Epoch 6/50\n",
      "22/22 - 0s - loss: 20.5286 - val_loss: 20.4333\n",
      "Epoch 7/50\n",
      "22/22 - 0s - loss: 20.5286 - val_loss: 20.4333\n",
      "Epoch 8/50\n",
      "22/22 - 0s - loss: 20.5286 - val_loss: 20.4333\n",
      "Epoch 9/50\n",
      "22/22 - 0s - loss: 20.5286 - val_loss: 20.4333\n",
      "Epoch 10/50\n",
      "22/22 - 0s - loss: 20.5286 - val_loss: 20.4333\n",
      "Epoch 11/50\n",
      "22/22 - 0s - loss: 20.5286 - val_loss: 20.4333\n",
      "Epoch 12/50\n",
      "22/22 - 0s - loss: 20.5286 - val_loss: 20.4333\n",
      "Epoch 13/50\n",
      "22/22 - 0s - loss: 20.5286 - val_loss: 20.4333\n",
      "Epoch 14/50\n",
      "22/22 - 0s - loss: 20.5286 - val_loss: 20.4333\n",
      "Epoch 15/50\n",
      "22/22 - 0s - loss: 20.5286 - val_loss: 20.4333\n",
      "Epoch 16/50\n",
      "22/22 - 0s - loss: 20.5286 - val_loss: 20.4333\n",
      "Epoch 17/50\n",
      "22/22 - 0s - loss: 20.5286 - val_loss: 20.4333\n",
      "Epoch 18/50\n",
      "22/22 - 0s - loss: 20.5286 - val_loss: 20.4333\n",
      "Epoch 19/50\n",
      "22/22 - 0s - loss: 20.5286 - val_loss: 20.4333\n",
      "Epoch 20/50\n",
      "22/22 - 0s - loss: 20.5286 - val_loss: 20.4333\n",
      "Epoch 21/50\n",
      "22/22 - 0s - loss: 20.5286 - val_loss: 20.4333\n",
      "Epoch 22/50\n",
      "22/22 - 0s - loss: 20.5286 - val_loss: 20.4333\n",
      "Epoch 23/50\n",
      "22/22 - 0s - loss: 20.5286 - val_loss: 20.4333\n",
      "Epoch 24/50\n",
      "22/22 - 0s - loss: 20.5286 - val_loss: 20.4333\n",
      "Epoch 25/50\n",
      "22/22 - 0s - loss: 20.5286 - val_loss: 20.4333\n",
      "Epoch 26/50\n",
      "22/22 - 0s - loss: 20.5286 - val_loss: 20.4333\n",
      "Epoch 27/50\n",
      "22/22 - 0s - loss: 20.5286 - val_loss: 20.4333\n",
      "Epoch 28/50\n",
      "22/22 - 0s - loss: 20.5286 - val_loss: 20.4333\n",
      "Epoch 29/50\n",
      "22/22 - 0s - loss: 20.5286 - val_loss: 20.4333\n",
      "Epoch 30/50\n",
      "22/22 - 0s - loss: 20.5286 - val_loss: 20.4333\n",
      "Epoch 31/50\n",
      "22/22 - 0s - loss: 20.5286 - val_loss: 20.4333\n",
      "Epoch 32/50\n",
      "22/22 - 0s - loss: 20.5286 - val_loss: 20.4333\n",
      "Epoch 33/50\n",
      "22/22 - 0s - loss: 20.5286 - val_loss: 20.4333\n",
      "Epoch 34/50\n",
      "22/22 - 0s - loss: 20.5286 - val_loss: 20.4333\n",
      "Epoch 35/50\n",
      "22/22 - 0s - loss: 20.5286 - val_loss: 20.4333\n",
      "Epoch 36/50\n",
      "22/22 - 0s - loss: 20.5286 - val_loss: 20.4333\n",
      "Epoch 37/50\n",
      "22/22 - 0s - loss: 20.5286 - val_loss: 20.4333\n",
      "Epoch 38/50\n",
      "22/22 - 0s - loss: 20.5286 - val_loss: 20.4333\n",
      "Epoch 39/50\n",
      "22/22 - 0s - loss: 20.5286 - val_loss: 20.4333\n",
      "Epoch 40/50\n",
      "22/22 - 0s - loss: 20.5286 - val_loss: 20.4333\n",
      "Epoch 41/50\n",
      "22/22 - 0s - loss: 20.5286 - val_loss: 20.4333\n",
      "Epoch 42/50\n",
      "22/22 - 0s - loss: 20.5286 - val_loss: 20.4333\n",
      "Epoch 43/50\n",
      "22/22 - 0s - loss: 20.5286 - val_loss: 20.4333\n",
      "Epoch 44/50\n",
      "22/22 - 0s - loss: 20.5286 - val_loss: 20.4333\n",
      "Epoch 45/50\n",
      "22/22 - 0s - loss: 20.5286 - val_loss: 20.4333\n",
      "Epoch 46/50\n",
      "22/22 - 0s - loss: 20.5286 - val_loss: 20.4333\n",
      "Epoch 47/50\n",
      "22/22 - 0s - loss: 20.5286 - val_loss: 20.4333\n",
      "Epoch 48/50\n",
      "22/22 - 0s - loss: 20.5286 - val_loss: 20.4333\n",
      "Epoch 49/50\n",
      "22/22 - 0s - loss: 20.5286 - val_loss: 20.4333\n",
      "Epoch 50/50\n",
      "22/22 - 0s - loss: 20.5286 - val_loss: 20.4333\n"
     ]
    },
    {
     "output_type": "execute_result",
     "data": {
      "text/plain": [
       "<keras.callbacks.History at 0x7f83941739a0>"
      ]
     },
     "metadata": {},
     "execution_count": 8
    }
   ],
   "metadata": {}
  },
  {
   "cell_type": "code",
   "execution_count": 9,
   "source": [
    "model.view_summary()\n"
   ],
   "outputs": [
    {
     "output_type": "stream",
     "name": "stdout",
     "text": [
      "Model: \"sequential\"\n",
      "_________________________________________________________________\n",
      "Layer (type)                 Output Shape              Param #   \n",
      "=================================================================\n",
      "dense (Dense)                (None, 16)                928       \n",
      "_________________________________________________________________\n",
      "dropout (Dropout)            (None, 16)                0         \n",
      "_________________________________________________________________\n",
      "dense_1 (Dense)              (None, 1)                 17        \n",
      "=================================================================\n",
      "Total params: 945\n",
      "Trainable params: 945\n",
      "Non-trainable params: 0\n",
      "_________________________________________________________________\n"
     ]
    }
   ],
   "metadata": {}
  },
  {
   "cell_type": "code",
   "execution_count": null,
   "source": [
    "from PartA_model import PartA_DNN\n",
    "\n",
    "# default configuration\n",
    "learning_rate = 0.001\n",
    "batch_size = 1\n",
    "dropout = 0.3\n",
    "seed = 100\n",
    "model = PartA_DNN()\n",
    "num_epochs = 50\n",
    "# history = model.train(X_train, Y_train)"
   ],
   "outputs": [],
   "metadata": {}
  },
  {
   "cell_type": "markdown",
   "source": [
    "Training the model"
   ],
   "metadata": {}
  },
  {
   "cell_type": "code",
   "execution_count": null,
   "source": [
    "i = 0\n",
    "err = []\n",
    "for i in range(num_epochs):\n",
    "    z_, h_, y_, out_ = model(X_train)\n",
    "    cost = loss(X_train, out)\n",
    "    z, h, y , out = model(X_train)\n",
    "    grad_u = -(1 * (X_train[1]) - out)\n",
    "    grad_V = tf.matmul(tf.transpose(h), grad_u)\n",
    "    grad_c = tf.reduce_sum(grad_u, axis=0)\n",
    "    dh = h*(1-h)\n",
    "    grad_z = tf.matmul(grad_u, tf.transpose(model.V))*dh\n",
    "    grad_W = tf.matmul(tf.transpose(X_train), grad_z)\n",
    "    grad_b = tf.reduce_sum(grad_z, axis=0)\n",
    "\n",
    "    model.W.assign_sub(learning_rate * grad_W)\n",
    "    model.b.assign_sub(learning_rate * grad_b)\n",
    "    model.V.assign_sub(learning_rate * grad_V)\n",
    "    model.c.assign_sub(learning_rate * grad_c)\n",
    "\n",
    "    if i == 0:\n",
    "        print('iter: {}'.format(i+1))\n",
    "        print('z: {}'.format(z_))\n",
    "        print('h: {}'.format(h_))\n",
    "        print('y: {}'.format(y_))\n",
    "        print('grad_u: {}'.format(grad_u))\n",
    "        print('dh: {}'.format(dh))\n",
    "        print('grad_z:{}'.format(grad_z))\n",
    "        print('grad_V:{}'.format(grad_V))\n",
    "        print('grad_c:{}'.format(grad_c))\n",
    "        print('grad_W:{}'.format(grad_W))\n",
    "        print('grad_b:{}'.format(grad_b))\n",
    "        print('cost: {}'.format(cost))\n",
    "        print('W = {}, b = {}'.format(model.W.numpy(), model.b.numpy()))\n",
    "        print('V = {}, c = {}'.format(model.V.numpy(), model.c.numpy()))\n",
    "        \n",
    "    err.append(cost)\n",
    "    if not i % 100:\n",
    "        print('epoch: {}, m.s.e: {}'.format(i, err[i]))"
   ],
   "outputs": [],
   "metadata": {}
  }
 ],
 "metadata": {
  "colab": {
   "authorship_tag": "ABX9TyPBI19y+/jqNpPI0QeiLTYf",
   "collapsed_sections": [],
   "name": "StarterCode.ipynb",
   "provenance": []
  },
  "kernelspec": {
   "name": "python3",
   "display_name": "Python 3.9.7 64-bit ('CZ4042': conda)"
  },
  "language_info": {
   "codemirror_mode": {
    "name": "ipython",
    "version": 3
   },
   "file_extension": ".py",
   "mimetype": "text/x-python",
   "name": "python",
   "nbconvert_exporter": "python",
   "pygments_lexer": "ipython3",
   "version": "3.9.7"
  },
  "interpreter": {
   "hash": "636b5b29e6b73c93de5ab172adb8e74b2c0f8ddacb3a338d6a3ae55b84076a85"
  }
 },
 "nbformat": 4,
 "nbformat_minor": 1
}