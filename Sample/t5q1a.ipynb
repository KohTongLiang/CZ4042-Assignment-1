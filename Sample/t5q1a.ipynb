{
 "cells": [
  {
   "cell_type": "markdown",
   "metadata": {},
   "source": [
    "# Tuorial 5, Question 1"
   ]
  },
  {
   "cell_type": "code",
   "execution_count": 1,
   "metadata": {},
   "outputs": [],
   "source": [
    "import tensorflow as tf\n",
    "from tensorflow.keras import Sequential\n",
    "from tensorflow.keras.layers import Dense\n",
    "from tensorflow.keras.optimizers import SGD\n",
    "\n",
    "import numpy as np\n",
    "import pylab as plt\n",
    "\n",
    "import os\n",
    "if not os.path.isdir('figures'):\n",
    "    os.makedirs('figures')"
   ]
  },
  {
   "cell_type": "code",
   "execution_count": 2,
   "metadata": {},
   "outputs": [],
   "source": [
    "no_epochs = 2500\n",
    "no_exps = 10\n",
    "batch_size = 70\n",
    "hidden_units = [2, 4, 6, 8, 10]"
   ]
  },
  {
   "cell_type": "code",
   "execution_count": 3,
   "metadata": {},
   "outputs": [],
   "source": [
    "seed = 10\n",
    "tf.random.set_seed(seed)\n",
    "np.random.seed(seed)\n",
    "\n",
    "np.set_printoptions(precision=4)"
   ]
  },
  {
   "cell_type": "code",
   "execution_count": null,
   "metadata": {},
   "outputs": [],
   "source": [
    "def get_callbacks(name):\n",
    "  return [\n",
    "    tfdocs.modeling.EpochDots(),\n",
    "    tf.keras.callbacks.EarlyStopping(monitor='val_loss', patience=20),\n",
    "  ]"
   ]
  },
  {
   "cell_type": "code",
   "execution_count": 5,
   "metadata": {},
   "outputs": [],
   "source": [
    "# perform experiments\n",
    "def train_exp(X, Y):\n",
    "\n",
    "    x_train, y_train, x_test, y_test = X[:70], Y[:70], X[70:], Y[70:]\n",
    "    \n",
    "    err = []\n",
    "    for no_hidden in hidden_units:\n",
    "\n",
    "        model = Sequential([\n",
    "                    Dense(no_hidden, activation='sigmoid'),\n",
    "                    Dense(1, activation='sigmoid')])\n",
    "    \n",
    "        model.compile(optimizer = SGD(learning_rate = 0.05), \n",
    "                                    loss='mse')\n",
    "    \n",
    "        history = model.fit(x_train, y_train,\n",
    "                            epochs=no_epochs,\n",
    "                            verbose=0,\n",
    "                            callbacks= [get_callbacks()],\n",
    "                            use_multiprocessing=False,\n",
    "                            batch_size = batch_size,\n",
    "                            validation_data=(x_test, y_test))\n",
    "        \n",
    "        err.append(min(history.history['val_loss']))\n",
    "    \n",
    "    return err"
   ]
  },
  {
   "cell_type": "code",
   "execution_count": 6,
   "metadata": {},
   "outputs": [],
   "source": [
    "# generate training data\n",
    "X = np.zeros((10*10, 2))\n",
    "no_data = 0\n",
    "for i in np.arange(-1.0, 1.001, 2.0/9.0):\n",
    "    for j in np.arange(-1.0, 1.001, 2.0/9.0):\n",
    "        X[no_data] = [i, j]\n",
    "        no_data += 1\n",
    "Y = np.zeros((no_data, 1))\n",
    "Y[:,0] = np.sin(np.pi*X[:,0])*np.cos(2*np.pi*X[:,1])"
   ]
  },
  {
   "cell_type": "code",
   "execution_count": 7,
   "metadata": {},
   "outputs": [
    {
     "name": "stdout",
     "output_type": "stream",
     "text": [
      "hidden units: [2, 4, 6, 8, 10]\n",
      "exp: 0, errors: [0.3186 0.318  0.313  0.3151 0.3169]\n",
      "exp: 1, errors: [0.1827 0.1811 0.1848 0.1807 0.182 ]\n",
      "exp: 2, errors: [0.2476 0.2447 0.245  0.2453 0.2441]\n",
      "exp: 3, errors: [0.2177 0.2194 0.2183 0.2196 0.2187]\n",
      "exp: 4, errors: [0.256  0.2508 0.2533 0.2477 0.2513]\n",
      "exp: 5, errors: [0.251  0.252  0.2413 0.2406 0.2441]\n",
      "exp: 6, errors: [0.2273 0.2264 0.2254 0.2257 0.2244]\n",
      "exp: 7, errors: [0.195  0.1899 0.1955 0.1935 0.1878]\n",
      "exp: 8, errors: [0.2055 0.2022 0.204  0.2053 0.2002]\n",
      "exp: 9, errors: [0.2291 0.2247 0.2321 0.2302 0.2325]\n"
     ]
    }
   ],
   "source": [
    "idx = np.arange(no_data)\n",
    "\n",
    "# perform experiments\n",
    "err = []\n",
    "print('hidden units: {}'.format(hidden_units))\n",
    "for exp in range(no_exps):\n",
    " \n",
    "    np.random.shuffle(idx)\n",
    "    err.append(train_exp(X[idx], Y[idx]))\n",
    "    print('exp: {}, errors: {}'.format(exp, np.array(err[exp])))"
   ]
  },
  {
   "cell_type": "code",
   "execution_count": 8,
   "metadata": {},
   "outputs": [
    {
     "name": "stdout",
     "output_type": "stream",
     "text": [
      "mean errors: [0.2331 0.2309 0.2313 0.2304 0.2302]\n",
      " *hidden units* 10 \n"
     ]
    }
   ],
   "source": [
    "# print the mean errors of different models\n",
    "mean_err = np.mean(np.array(err), axis = 0)\n",
    "print('mean errors: {}'.format(mean_err))\n",
    "print(' *hidden units* %d '%hidden_units[np.argmin(mean_err)])"
   ]
  },
  {
   "cell_type": "code",
   "execution_count": 9,
   "metadata": {},
   "outputs": [
    {
     "data": {
      "image/png": "[encoded data removed]",
      "text/plain": [
       "<Figure size 432x288 with 1 Axes>"
      ]
     },
     "metadata": {
      "needs_background": "light"
     },
     "output_type": "display_data"
    }
   ],
   "source": [
    "plt.figure(1)\n",
    "plt.plot(hidden_units, mean_err, marker = 'x', linestyle = 'None')\n",
    "plt.xticks(hidden_units)\n",
    "plt.xlabel('number of hidden units')\n",
    "plt.ylabel('mean error')\n",
    "plt.savefig('./figures/t5q1_1.png')"
   ]
  },
  {
   "cell_type": "code",
   "execution_count": null,
   "metadata": {},
   "outputs": [],
   "source": []
  }
 ],
 "metadata": {
  "kernelspec": {
   "display_name": "Python 3",
   "language": "python",
   "name": "python3"
  },
  "language_info": {
   "codemirror_mode": {
    "name": "ipython",
    "version": 3
   },
   "file_extension": ".py",
   "mimetype": "text/x-python",
   "name": "python",
   "nbconvert_exporter": "python",
   "pygments_lexer": "ipython3",
   "version": "3.7.9"
  }
 },
 "nbformat": 4,
 "nbformat_minor": 4
}
